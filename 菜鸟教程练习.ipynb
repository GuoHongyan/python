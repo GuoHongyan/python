{
 "cells": [
  {
   "cell_type": "markdown",
   "metadata": {},
   "source": [
    "ndmin制定数组的最小维度"
   ]
  },
  {
   "cell_type": "code",
   "execution_count": 206,
   "metadata": {},
   "outputs": [
    {
     "data": {
      "text/plain": [
       "array([[1, 2, 3]])"
      ]
     },
     "execution_count": 206,
     "metadata": {},
     "output_type": "execute_result"
    }
   ],
   "source": [
    "# ndmin最小维度设置成2\n",
    "import numpy as np\n",
    "a = np.array([1,2,3],ndmin=2)\n",
    "a"
   ]
  },
  {
   "cell_type": "code",
   "execution_count": 207,
   "metadata": {},
   "outputs": [
    {
     "data": {
      "text/plain": [
       "dtype('int32')"
      ]
     },
     "execution_count": 207,
     "metadata": {},
     "output_type": "execute_result"
    }
   ],
   "source": [
    "dt = np.dtype(np.int32)\n",
    "dt"
   ]
  },
  {
   "cell_type": "markdown",
   "metadata": {},
   "source": [
    "int8, int16, int32, int64 四种数据类型可以使用字符串 'i1', 'i2','i4','i8' 代替"
   ]
  },
  {
   "cell_type": "code",
   "execution_count": 208,
   "metadata": {},
   "outputs": [
    {
     "data": {
      "text/plain": [
       "dtype('int64')"
      ]
     },
     "execution_count": 208,
     "metadata": {},
     "output_type": "execute_result"
    }
   ],
   "source": [
    "dt = np.dtype('i8')\n",
    "dt"
   ]
  },
  {
   "cell_type": "code",
   "execution_count": 209,
   "metadata": {},
   "outputs": [
    {
     "data": {
      "text/plain": [
       "dtype([('age', 'i1')])"
      ]
     },
     "execution_count": 209,
     "metadata": {},
     "output_type": "execute_result"
    }
   ],
   "source": [
    "dt = np.dtype([('age',np.int8)])\n",
    "dt"
   ]
  },
  {
   "cell_type": "code",
   "execution_count": 210,
   "metadata": {},
   "outputs": [
    {
     "name": "stdout",
     "output_type": "stream",
     "text": [
      "1\n",
      "3\n",
      "2\n"
     ]
    }
   ],
   "source": [
    "a = np.arange(24)\n",
    "print(a.ndim)\n",
    "a = a.reshape(2,3,4)\n",
    "print(a.ndim)\n",
    "a.shape=(4,6)\n",
    "print(a.ndim)"
   ]
  },
  {
   "cell_type": "markdown",
   "metadata": {},
   "source": [
    "创建数组"
   ]
  },
  {
   "cell_type": "markdown",
   "metadata": {},
   "source": [
    "1、empty： 数组元素为随机值，因为它们未初始化"
   ]
  },
  {
   "cell_type": "markdown",
   "metadata": {},
   "source": [
    "2、zeros：创建指定大小的数组，数组元素以 0 来填充"
   ]
  },
  {
   "cell_type": "markdown",
   "metadata": {},
   "source": [
    "3、ones：创建指定形状的数组，数组元素以 1 来填充"
   ]
  },
  {
   "cell_type": "code",
   "execution_count": 6,
   "metadata": {},
   "outputs": [
    {
     "data": {
      "text/plain": [
       "array([[1.117e-321, 0.000e+000, 0.000e+000],\n",
       "       [0.000e+000, 0.000e+000, 0.000e+000]])"
      ]
     },
     "execution_count": 6,
     "metadata": {},
     "output_type": "execute_result"
    }
   ],
   "source": [
    "a = np.empty((2,3))\n",
    "a"
   ]
  },
  {
   "cell_type": "code",
   "execution_count": 7,
   "metadata": {},
   "outputs": [
    {
     "data": {
      "text/plain": [
       "array([[0., 0., 0.],\n",
       "       [0., 0., 0.]])"
      ]
     },
     "execution_count": 7,
     "metadata": {},
     "output_type": "execute_result"
    }
   ],
   "source": [
    "a = np.zeros((2,3))\n",
    "a"
   ]
  },
  {
   "cell_type": "code",
   "execution_count": 8,
   "metadata": {},
   "outputs": [
    {
     "data": {
      "text/plain": [
       "array([[1., 1., 1.],\n",
       "       [1., 1., 1.]])"
      ]
     },
     "execution_count": 8,
     "metadata": {},
     "output_type": "execute_result"
    }
   ],
   "source": [
    "a = np.ones((2,3))\n",
    "a"
   ]
  },
  {
   "cell_type": "markdown",
   "metadata": {},
   "source": [
    "从已有的数组创建数组  asarray   frombuffer: 用于实现动态数组    fromiter"
   ]
  },
  {
   "cell_type": "code",
   "execution_count": 9,
   "metadata": {},
   "outputs": [
    {
     "data": {
      "text/plain": [
       "array([[1., 2., 3.],\n",
       "       [4., 5., 6.]])"
      ]
     },
     "execution_count": 9,
     "metadata": {},
     "output_type": "execute_result"
    }
   ],
   "source": [
    "a = np.asarray([(1,2,3),(4,5,6)],dtype=float)\n",
    "a"
   ]
  },
  {
   "cell_type": "code",
   "execution_count": 10,
   "metadata": {},
   "outputs": [
    {
     "data": {
      "text/plain": [
       "array([b'h', b'e', b'l', b'l', b'o', b' ', b'w', b'o', b'r', b'l', b'd'],\n",
       "      dtype='|S1')"
      ]
     },
     "execution_count": 10,
     "metadata": {},
     "output_type": "execute_result"
    }
   ],
   "source": [
    "s = b'hello world'\n",
    "a = np.frombuffer(s,dtype='S1')\n",
    "a"
   ]
  },
  {
   "cell_type": "code",
   "execution_count": 11,
   "metadata": {},
   "outputs": [
    {
     "data": {
      "text/plain": [
       "array([0., 1., 2., 3., 4., 5.])"
      ]
     },
     "execution_count": 11,
     "metadata": {},
     "output_type": "execute_result"
    }
   ],
   "source": [
    "a = np.fromiter(iter(range(6)),dtype=float)\n",
    "a"
   ]
  },
  {
   "cell_type": "markdown",
   "metadata": {},
   "source": [
    "从数值范围创建数组"
   ]
  },
  {
   "cell_type": "code",
   "execution_count": 12,
   "metadata": {},
   "outputs": [
    {
     "data": {
      "text/plain": [
       "array([0, 1, 2, 3])"
      ]
     },
     "execution_count": 12,
     "metadata": {},
     "output_type": "execute_result"
    }
   ],
   "source": [
    "a = np.arange(4)\n",
    "a"
   ]
  },
  {
   "cell_type": "code",
   "execution_count": 13,
   "metadata": {},
   "outputs": [
    {
     "data": {
      "text/plain": [
       "array([1, 3, 5, 7, 9])"
      ]
     },
     "execution_count": 13,
     "metadata": {},
     "output_type": "execute_result"
    }
   ],
   "source": [
    "a = np.arange(1,10,2)\n",
    "a"
   ]
  },
  {
   "cell_type": "markdown",
   "metadata": {},
   "source": [
    "numpy.linspace 函数用于创建一个一维数组，数组是一个等差数列构成的"
   ]
  },
  {
   "cell_type": "code",
   "execution_count": 14,
   "metadata": {},
   "outputs": [
    {
     "data": {
      "text/plain": [
       "array([ 1., 10.])"
      ]
     },
     "execution_count": 14,
     "metadata": {},
     "output_type": "execute_result"
    }
   ],
   "source": [
    "a = np.linspace(1,10,2)\n",
    "a"
   ]
  },
  {
   "cell_type": "code",
   "execution_count": 15,
   "metadata": {},
   "outputs": [
    {
     "data": {
      "text/plain": [
       "array([1., 1.])"
      ]
     },
     "execution_count": 15,
     "metadata": {},
     "output_type": "execute_result"
    }
   ],
   "source": [
    "a = np.linspace(1,1,2)\n",
    "a"
   ]
  },
  {
   "cell_type": "markdown",
   "metadata": {},
   "source": [
    "创建等差数列"
   ]
  },
  {
   "cell_type": "code",
   "execution_count": 16,
   "metadata": {},
   "outputs": [
    {
     "name": "stdout",
     "output_type": "stream",
     "text": [
      "(array([10., 12., 14., 16., 18.]), 2.0)\n"
     ]
    }
   ],
   "source": [
    "a = np.linspace(10, 20,  5, endpoint =  False,retstep= True)  \n",
    "print(a)"
   ]
  },
  {
   "cell_type": "code",
   "execution_count": 17,
   "metadata": {},
   "outputs": [
    {
     "name": "stdout",
     "output_type": "stream",
     "text": [
      "(array([10. , 12.5, 15. , 17.5, 20. ]), 2.5)\n"
     ]
    }
   ],
   "source": [
    "a = np.linspace(10, 20,  5, endpoint =  True,retstep= True)  \n",
    "print(a)"
   ]
  },
  {
   "cell_type": "markdown",
   "metadata": {},
   "source": [
    "创建等比数列"
   ]
  },
  {
   "cell_type": "code",
   "execution_count": 18,
   "metadata": {},
   "outputs": [
    {
     "data": {
      "text/plain": [
       "array([  1.,   2.,   4.,   8.,  16.,  32.,  64., 128., 256., 512.])"
      ]
     },
     "execution_count": 18,
     "metadata": {},
     "output_type": "execute_result"
    }
   ],
   "source": [
    "a = np.logspace(0,9,10,base=2)#base=2:等比的比是2\n",
    "a"
   ]
  },
  {
   "cell_type": "markdown",
   "metadata": {},
   "source": [
    "切片"
   ]
  },
  {
   "cell_type": "code",
   "execution_count": 19,
   "metadata": {},
   "outputs": [
    {
     "name": "stdout",
     "output_type": "stream",
     "text": [
      "[0 1 2 3 4 5 6 7 8 9]\n"
     ]
    },
    {
     "data": {
      "text/plain": [
       "array([1, 3, 5])"
      ]
     },
     "execution_count": 19,
     "metadata": {},
     "output_type": "execute_result"
    }
   ],
   "source": [
    "a = np.arange(10)\n",
    "b = a[slice(1,6,2)]\n",
    "print(a)\n",
    "b"
   ]
  },
  {
   "cell_type": "code",
   "execution_count": 20,
   "metadata": {},
   "outputs": [
    {
     "name": "stdout",
     "output_type": "stream",
     "text": [
      "[0 1 2 3 4 5 6 7 8 9]\n"
     ]
    },
    {
     "data": {
      "text/plain": [
       "array([0, 2, 4, 6, 8])"
      ]
     },
     "execution_count": 20,
     "metadata": {},
     "output_type": "execute_result"
    }
   ],
   "source": [
    "print(a)\n",
    "b = a[0:10:2]\n",
    "b"
   ]
  },
  {
   "cell_type": "code",
   "execution_count": 21,
   "metadata": {},
   "outputs": [
    {
     "name": "stdout",
     "output_type": "stream",
     "text": [
      "[0 2 4 6 8]\n",
      "6\n",
      "[6 8]\n",
      "[6]\n"
     ]
    }
   ],
   "source": [
    "print(b)\n",
    "print(b[3])\n",
    "print(b[3:])\n",
    "print(b[3:4])"
   ]
  },
  {
   "cell_type": "code",
   "execution_count": 22,
   "metadata": {},
   "outputs": [
    {
     "name": "stdout",
     "output_type": "stream",
     "text": [
      "[[1 2 3]\n",
      " [3 4 5]\n",
      " [4 5 6]]\n"
     ]
    }
   ],
   "source": [
    "a = np.array([[1,2,3],[3,4,5],[4,5,6]])\n",
    "print(a)"
   ]
  },
  {
   "cell_type": "code",
   "execution_count": 23,
   "metadata": {},
   "outputs": [
    {
     "name": "stdout",
     "output_type": "stream",
     "text": [
      "[2 4 5]\n"
     ]
    }
   ],
   "source": [
    "print(a[:,1])"
   ]
  },
  {
   "cell_type": "code",
   "execution_count": 24,
   "metadata": {},
   "outputs": [
    {
     "name": "stdout",
     "output_type": "stream",
     "text": [
      "[3 4 5]\n"
     ]
    }
   ],
   "source": [
    "print(a[1,...])"
   ]
  },
  {
   "cell_type": "code",
   "execution_count": 25,
   "metadata": {
    "scrolled": true
   },
   "outputs": [
    {
     "name": "stdout",
     "output_type": "stream",
     "text": [
      "[4 5]\n"
     ]
    }
   ],
   "source": [
    "print(a[1,1:3])"
   ]
  },
  {
   "cell_type": "markdown",
   "metadata": {},
   "source": [
    "NumPy 高级索引"
   ]
  },
  {
   "cell_type": "code",
   "execution_count": 26,
   "metadata": {},
   "outputs": [
    {
     "data": {
      "text/plain": [
       "array([[1, 2],\n",
       "       [3, 4],\n",
       "       [5, 6]])"
      ]
     },
     "execution_count": 26,
     "metadata": {},
     "output_type": "execute_result"
    }
   ],
   "source": [
    "x = np.array([[1,  2],  [3,  4],  [5,  6]]) \n",
    "x"
   ]
  },
  {
   "cell_type": "code",
   "execution_count": 27,
   "metadata": {},
   "outputs": [
    {
     "name": "stdout",
     "output_type": "stream",
     "text": [
      "[1]\n"
     ]
    }
   ],
   "source": [
    "y = x[[0],[0]]\n",
    "print(y)"
   ]
  },
  {
   "cell_type": "markdown",
   "metadata": {},
   "source": [
    "取（0,0），（1,0），（2,1）的元素"
   ]
  },
  {
   "cell_type": "code",
   "execution_count": 28,
   "metadata": {},
   "outputs": [
    {
     "name": "stdout",
     "output_type": "stream",
     "text": [
      "[1 3 6]\n"
     ]
    }
   ],
   "source": [
    "y = x[[0,1,2],[0,0,1]]\n",
    "print(y)"
   ]
  },
  {
   "cell_type": "code",
   "execution_count": 29,
   "metadata": {},
   "outputs": [
    {
     "name": "stdout",
     "output_type": "stream",
     "text": [
      "[[ 0  1  2]\n",
      " [ 3  4  5]\n",
      " [ 6  7  8]\n",
      " [ 9 10 11]]\n",
      "********************\n",
      "[[0 0]\n",
      " [3 3]]\n",
      "********************\n",
      "[[0 2]\n",
      " [0 2]]\n",
      "********************\n",
      "[[ 0  2]\n",
      " [ 9 11]]\n",
      "********************\n",
      "[[ 0  2]\n",
      " [ 9 11]]\n"
     ]
    }
   ],
   "source": [
    "x = np.array([[  0,  1,  2],[  3,  4,  5],[  6,  7,  8],[  9,  10,  11]])  \n",
    "print(x)\n",
    "print('*'*20)\n",
    "rows = np.array([[0,0],[3,3]]) \n",
    "cols = np.array([[0,2],[0,2]]) \n",
    "print(rows)\n",
    "print('*'*20)\n",
    "print(cols)\n",
    "print('*'*20)\n",
    "y = x[rows,cols]\n",
    "print(y)\n",
    "print('*'*20)\n",
    "y = x[[[0,0],[3,3]],[[0,2],[0,2]]]\n",
    "print(y)"
   ]
  },
  {
   "cell_type": "code",
   "execution_count": 30,
   "metadata": {},
   "outputs": [
    {
     "name": "stdout",
     "output_type": "stream",
     "text": [
      "[[ 0  1  2]\n",
      " [ 3  4  5]\n",
      " [ 6  7  8]\n",
      " [ 9 10 11]]\n",
      "[ 6  7  8  9 10 11]\n",
      "[[False False False]\n",
      " [False False False]\n",
      " [ True  True  True]\n",
      " [ True  True  True]]\n"
     ]
    }
   ],
   "source": [
    "x = np.arange(12).reshape(4,3)\n",
    "print(x)\n",
    "print(x[x>5])\n",
    "print(x>5)"
   ]
  },
  {
   "cell_type": "markdown",
   "metadata": {},
   "source": [
    "过滤数组例子"
   ]
  },
  {
   "cell_type": "code",
   "execution_count": 31,
   "metadata": {},
   "outputs": [
    {
     "name": "stdout",
     "output_type": "stream",
     "text": [
      "[2. +6.j 3.5+5.j]\n"
     ]
    }
   ],
   "source": [
    "a = np.array([1,  2+6j,  5,  3.5+5j])  \n",
    "print (a[np.iscomplex(a)])"
   ]
  },
  {
   "cell_type": "code",
   "execution_count": 32,
   "metadata": {},
   "outputs": [
    {
     "name": "stdout",
     "output_type": "stream",
     "text": [
      "[[ 0  1  2  3]\n",
      " [ 4  5  6  7]\n",
      " [ 8  9 10 11]\n",
      " [12 13 14 15]\n",
      " [16 17 18 19]\n",
      " [20 21 22 23]\n",
      " [24 25 26 27]\n",
      " [28 29 30 31]]\n",
      "********************\n",
      "[[16 17 18 19]\n",
      " [ 8  9 10 11]\n",
      " [ 4  5  6  7]\n",
      " [28 29 30 31]]\n",
      "********************\n",
      "[[16 17 18 19]\n",
      " [24 25 26 27]\n",
      " [28 29 30 31]\n",
      " [ 4  5  6  7]]\n"
     ]
    }
   ],
   "source": [
    "x = np.arange(32).reshape(8,4)\n",
    "print(x)\n",
    "print('*'*20)\n",
    "print(x[[4,2,1,7]])\n",
    "print('*'*20)\n",
    "print(x[[-4,-2,-1,-7]])#-1是最后一个"
   ]
  },
  {
   "cell_type": "code",
   "execution_count": 33,
   "metadata": {},
   "outputs": [
    {
     "name": "stdout",
     "output_type": "stream",
     "text": [
      "[[ 0  1  2  3]\n",
      " [ 4  5  6  7]\n",
      " [ 8  9 10 11]\n",
      " [12 13 14 15]\n",
      " [16 17 18 19]\n",
      " [20 21 22 23]\n",
      " [24 25 26 27]\n",
      " [28 29 30 31]]\n",
      "********************\n",
      "[[ 4  7  5  6]\n",
      " [20 23 21 22]\n",
      " [28 31 29 30]\n",
      " [ 8 11  9 10]]\n"
     ]
    }
   ],
   "source": [
    "x = np.arange(32).reshape(8,4)\n",
    "print(x)\n",
    "print('*'*20)\n",
    "print (x[np.ix_([1,5,7,2],[0,3,1,2])])"
   ]
  },
  {
   "cell_type": "markdown",
   "metadata": {},
   "source": [
    "广播"
   ]
  },
  {
   "cell_type": "markdown",
   "metadata": {},
   "source": [
    "数组形状相同的a，b运算"
   ]
  },
  {
   "cell_type": "code",
   "execution_count": 34,
   "metadata": {},
   "outputs": [
    {
     "name": "stdout",
     "output_type": "stream",
     "text": [
      "[ 10  40  90 160]\n"
     ]
    }
   ],
   "source": [
    "a = np.array([1,2,3,4])\n",
    "b = np.array([10,20,30,40])\n",
    "c = a*b\n",
    "print(c)"
   ]
  },
  {
   "cell_type": "markdown",
   "metadata": {},
   "source": [
    "数组形状不相同的a，b运算，numpy自动触发广播机制"
   ]
  },
  {
   "cell_type": "code",
   "execution_count": 35,
   "metadata": {},
   "outputs": [
    {
     "name": "stdout",
     "output_type": "stream",
     "text": [
      "[[ 0  0  0]\n",
      " [10 10 10]\n",
      " [20 20 20]\n",
      " [30 30 30]]\n",
      "********************\n",
      "[1 2 3]\n",
      "********************\n",
      "[[ 1  2  3]\n",
      " [11 12 13]\n",
      " [21 22 23]\n",
      " [31 32 33]]\n"
     ]
    }
   ],
   "source": [
    "a = np.array([[ 0, 0, 0],\n",
    "           [10,10,10],\n",
    "           [20,20,20],\n",
    "           [30,30,30]])\n",
    "b = np.array([1,2,3])\n",
    "print(a)\n",
    "print('*'*20)\n",
    "print(b)\n",
    "print('*'*20)\n",
    "print(a+b)"
   ]
  },
  {
   "cell_type": "code",
   "execution_count": 36,
   "metadata": {},
   "outputs": [
    {
     "name": "stdout",
     "output_type": "stream",
     "text": [
      "[[ 0  0  0]\n",
      " [10 10 10]\n",
      " [20 20 20]\n",
      " [30 30 30]]\n",
      "********************\n",
      "[1 2 3]\n",
      "********************\n",
      "[[1 2 3]\n",
      " [1 2 3]\n",
      " [1 2 3]\n",
      " [1 2 3]]\n",
      "********************\n",
      "[[ 1  2  3]\n",
      " [11 12 13]\n",
      " [21 22 23]\n",
      " [31 32 33]]\n"
     ]
    }
   ],
   "source": [
    "a = np.array([[ 0, 0, 0],\n",
    "           [10,10,10],\n",
    "           [20,20,20],\n",
    "           [30,30,30]])\n",
    "b = np.array([1,2,3])\n",
    "print(a)\n",
    "print('*'*20)\n",
    "print(b)\n",
    "bb = np.tile(b, (4, 1))\n",
    "print('*'*20)\n",
    "print(bb)\n",
    "print('*'*20)\n",
    "print(a+bb)"
   ]
  },
  {
   "cell_type": "markdown",
   "metadata": {},
   "source": [
    "迭代数组"
   ]
  },
  {
   "cell_type": "code",
   "execution_count": 37,
   "metadata": {},
   "outputs": [
    {
     "name": "stdout",
     "output_type": "stream",
     "text": [
      "[[0 1 2]\n",
      " [3 4 5]]\n",
      "********************\n",
      "0 1 2 3 4 5 \n",
      "0 1 2 3 4 5 \n",
      "0 3 1 4 2 5 "
     ]
    }
   ],
   "source": [
    "a = np.arange(6).reshape(2,3)\n",
    "print(a)\n",
    "print('********************')\n",
    "for n in np.nditer(a):\n",
    "    print(n,end=' ')\n",
    "print()\n",
    "for n in np.nditer(a.T):\n",
    "    print(n,end=' ')\n",
    "print()\n",
    "for n in np.nditer(a.T.copy(order='C')):\n",
    "    print(n,end=' ')"
   ]
  },
  {
   "cell_type": "markdown",
   "metadata": {},
   "source": [
    "控制遍历顺序\n",
    "for x in np.nditer(a, order='F'):Fortran order，即是列序优先；\n",
    "for x in np.nditer(a.T, order='C'):C order，即是行序优先；"
   ]
  },
  {
   "cell_type": "code",
   "execution_count": 38,
   "metadata": {
    "scrolled": true
   },
   "outputs": [
    {
     "name": "stdout",
     "output_type": "stream",
     "text": [
      "[[ 0  5 10 15]\n",
      " [20 25 30 35]\n",
      " [40 45 50 55]]\n",
      "********************\n",
      "[[ 0 20 40]\n",
      " [ 5 25 45]\n",
      " [10 30 50]\n",
      " [15 35 55]]\n",
      "********************\n",
      "[[ 0 20 40]\n",
      " [ 5 25 45]\n",
      " [10 30 50]\n",
      " [15 35 55]]\n",
      "0 20 40 5 25 45 10 30 50 15 35 55 \n",
      "********************\n",
      "[[ 0 20 40]\n",
      " [ 5 25 45]\n",
      " [10 30 50]\n",
      " [15 35 55]]\n",
      "0 5 10 15 20 25 30 35 40 45 50 55 "
     ]
    }
   ],
   "source": [
    "a = np.arange(0,60,5).reshape(3,4)\n",
    "print(a)\n",
    "print('*'*20)\n",
    "b = a.T\n",
    "print(b)\n",
    "print('*'*20)\n",
    "print(b.copy(order='C'))\n",
    "for n in np.nditer(b.copy(order='C')):\n",
    "    print(n,end=' ')\n",
    "print()\n",
    "print('*'*20)\n",
    "print(b.copy(order='F'))\n",
    "for n in np.nditer(b.copy(order='F')):\n",
    "    print(n,end=' ')"
   ]
  },
  {
   "cell_type": "markdown",
   "metadata": {},
   "source": [
    "可以通过显式设置，来强制 nditer 对象使用某种顺序"
   ]
  },
  {
   "cell_type": "code",
   "execution_count": 39,
   "metadata": {},
   "outputs": [
    {
     "name": "stdout",
     "output_type": "stream",
     "text": [
      "[[ 0  5 10 15]\n",
      " [20 25 30 35]\n",
      " [40 45 50 55]]\n",
      "********************\n",
      "0 5 10 15 20 25 30 35 40 45 50 55 \n",
      "********************\n",
      "0 20 40 5 25 45 10 30 50 15 35 55 "
     ]
    }
   ],
   "source": [
    "print(a)\n",
    "print('*'*20)\n",
    "for x in np.nditer(a,order='C'):\n",
    "    print(x,end=' ')\n",
    "print()\n",
    "print('*'*20)\n",
    "for x in np.nditer(a,order='F'):\n",
    "    print(x,end=' ')"
   ]
  },
  {
   "cell_type": "code",
   "execution_count": 40,
   "metadata": {},
   "outputs": [
    {
     "name": "stdout",
     "output_type": "stream",
     "text": [
      "[[ 0  5 10 15]\n",
      " [20 25 30 35]\n",
      " [40 45 50 55]]\n",
      "********************\n",
      "[[  0  10  20  30]\n",
      " [ 40  50  60  70]\n",
      " [ 80  90 100 110]]\n",
      "********************\n",
      "[[  0  20  40  60]\n",
      " [ 80 100 120 140]\n",
      " [160 180 200 220]]\n"
     ]
    }
   ],
   "source": [
    "print(a)\n",
    "print('*'*20)\n",
    "for x in np.nditer(a,op_flags=['readwrite']):\n",
    "    x[...] = 2*x\n",
    "print(a)\n",
    "print('*'*20)\n",
    "print(a*2)"
   ]
  },
  {
   "cell_type": "markdown",
   "metadata": {},
   "source": [
    "nditer类的构造器拥有flags参数，它可以接受下列值：\n",
    "\n",
    "参数\t描述\n",
    "\n",
    "c_index\t可以跟踪 C 顺序的索引\n",
    "\n",
    "f_index\t可以跟踪 Fortran 顺序的索引\n",
    "\n",
    "multi-index\t每次迭代可以跟踪一种索引类型\n",
    "\n",
    "external_loop\t给出的值是具有多个值的一维数组，而不是零维数组"
   ]
  },
  {
   "cell_type": "code",
   "execution_count": 41,
   "metadata": {},
   "outputs": [
    {
     "name": "stdout",
     "output_type": "stream",
     "text": [
      "[[ 0  5 10 15]\n",
      " [20 25 30 35]\n",
      " [40 45 50 55]]\n",
      "********************\n",
      "[ 0 20 40] [ 5 25 45] [10 30 50] [15 35 55] "
     ]
    }
   ],
   "source": [
    "a = np.arange(0,60,5).reshape(3,4)\n",
    "print(a)\n",
    "print('*'*20)\n",
    "for x in np.nditer(a,flags=['external_loop'],order='F'):\n",
    "    print(x,end=' ')"
   ]
  },
  {
   "cell_type": "code",
   "execution_count": 42,
   "metadata": {},
   "outputs": [
    {
     "name": "stdout",
     "output_type": "stream",
     "text": [
      "[[ 0  5 10 15]\n",
      " [20 25 30 35]\n",
      " [40 45 50 55]]\n",
      "\n",
      "[1 2 3 4]\n",
      "\n",
      "0:1 5:2 10:3 15:4 20:1 25:2 30:3 35:4 40:1 45:2 50:3 55:4 "
     ]
    }
   ],
   "source": [
    "a = np.arange(0,60,5).reshape(3,4)\n",
    "print(a)\n",
    "print()\n",
    "b = np.array([1,2,3,4])\n",
    "print(b)\n",
    "print()\n",
    "for x,y in np.nditer([a,b]):\n",
    "    print('%d:%d' % (x,y),end=' ')"
   ]
  },
  {
   "cell_type": "markdown",
   "metadata": {},
   "source": [
    "数组元素迭代器"
   ]
  },
  {
   "cell_type": "code",
   "execution_count": 43,
   "metadata": {},
   "outputs": [
    {
     "name": "stdout",
     "output_type": "stream",
     "text": [
      "[[0 1 2]\n",
      " [3 4 5]\n",
      " [6 7 8]]\n",
      "\n",
      "0 1 2 3 4 5 6 7 8 "
     ]
    }
   ],
   "source": [
    "a = np.arange(9).reshape(3,3)\n",
    "print(a)\n",
    "print()\n",
    "for n in a.flat:\n",
    "    print(n,end=' ')"
   ]
  },
  {
   "cell_type": "markdown",
   "metadata": {},
   "source": [
    "numpy.ndarray.flatten 返回一份数组拷贝，对拷贝所做的修改不会影响原始数组，order：'C' -- 按行，'F' -- 按列，'A' -- 原顺序，'K' -- 元素在内存中的出现顺序。"
   ]
  },
  {
   "cell_type": "code",
   "execution_count": 44,
   "metadata": {},
   "outputs": [
    {
     "name": "stdout",
     "output_type": "stream",
     "text": [
      "[[0 1 2]\n",
      " [3 4 5]\n",
      " [6 7 8]]\n",
      "\n",
      "[0 1 2 3 4 5 6 7 8]\n",
      "\n",
      "[0 3 6 1 4 7 2 5 8]\n"
     ]
    }
   ],
   "source": [
    "print(a)\n",
    "print()\n",
    "print(a.flatten())\n",
    "print()\n",
    "print(a.flatten(order='F'))"
   ]
  },
  {
   "cell_type": "markdown",
   "metadata": {},
   "source": [
    "numpy.ravel() 展平的数组元素，顺序通常是\"C风格\"，返回的是数组视图，修改会影响原始数组。\n",
    "\n",
    "order：'C' -- 按行，'F' -- 按列，'A' -- 原顺序，'K' -- 元素在内存中的出现顺序。"
   ]
  },
  {
   "cell_type": "code",
   "execution_count": 45,
   "metadata": {},
   "outputs": [
    {
     "name": "stdout",
     "output_type": "stream",
     "text": [
      "[[0 1 2 3]\n",
      " [4 5 6 7]]\n",
      "\n",
      "[0 1 2 3 4 5 6 7]\n",
      "\n",
      "[0 4 1 5 2 6 3 7]\n",
      "\n"
     ]
    }
   ],
   "source": [
    "a = np.arange(8).reshape(2,4)\n",
    "print(a)\n",
    "print()\n",
    "print(a.ravel())\n",
    "print()\n",
    "print(a.ravel(order='F'))\n",
    "print()"
   ]
  },
  {
   "cell_type": "markdown",
   "metadata": {},
   "source": [
    "numpy.rollaxis 函数向后滚动特定的轴到一个特定位置"
   ]
  },
  {
   "cell_type": "code",
   "execution_count": 46,
   "metadata": {},
   "outputs": [
    {
     "name": "stdout",
     "output_type": "stream",
     "text": [
      "[[[0 1]\n",
      "  [2 3]]\n",
      "\n",
      " [[4 5]\n",
      "  [6 7]]]\n",
      "----------------\n",
      "[[[0 2]\n",
      "  [4 6]]\n",
      "\n",
      " [[1 3]\n",
      "  [5 7]]]\n"
     ]
    }
   ],
   "source": [
    "a = np.arange(8).reshape(2,2,2)\n",
    "print(a)\n",
    "print('----------------')\n",
    "print(np.rollaxis(a,2))"
   ]
  },
  {
   "cell_type": "markdown",
   "metadata": {},
   "source": [
    "numpy.swapaxes 函数用于交换数组的两个轴"
   ]
  },
  {
   "cell_type": "code",
   "execution_count": 47,
   "metadata": {},
   "outputs": [
    {
     "name": "stdout",
     "output_type": "stream",
     "text": [
      "[[[0 1]\n",
      "  [2 3]]\n",
      "\n",
      " [[4 5]\n",
      "  [6 7]]]\n",
      "----------------\n",
      "[[[0 4]\n",
      "  [2 6]]\n",
      "\n",
      " [[1 5]\n",
      "  [3 7]]]\n"
     ]
    }
   ],
   "source": [
    "print(a)\n",
    "print('----------------')\n",
    "print(np.swapaxes(a,2,0))"
   ]
  },
  {
   "cell_type": "code",
   "execution_count": 48,
   "metadata": {},
   "outputs": [
    {
     "name": "stdout",
     "output_type": "stream",
     "text": [
      "<numpy.broadcast object at 0x0000000004952920>\n",
      "\n",
      "1 4\n",
      "1 5\n",
      "1 6\n",
      "\n",
      "(3, 3)\n",
      "(3, 3)\n",
      "\n",
      "[[5. 6. 7.]\n",
      " [6. 7. 8.]\n",
      " [7. 8. 9.]]\n",
      "\n",
      "[[5 6 7]\n",
      " [6 7 8]\n",
      " [7 8 9]]\n"
     ]
    }
   ],
   "source": [
    "x = np.array([[1], [2], [3]])\n",
    "y = np.array([4, 5, 6]) \n",
    "b = np.broadcast(x,y)\n",
    "print(b)\n",
    "print()\n",
    "r,c = b.iters\n",
    "print(next(r),next(c))\n",
    "print(next(r),next(c))\n",
    "print(next(r),next(c))\n",
    "print()\n",
    "print(b.shape)\n",
    "b = np.broadcast(x,y)\n",
    "c = np.empty(b.shape)\n",
    "print(c.shape)\n",
    "print()\n",
    "c.flat = [u+v for (u,v) in b]\n",
    "print(c)\n",
    "print()\n",
    "print(x+y)"
   ]
  },
  {
   "cell_type": "markdown",
   "metadata": {},
   "source": [
    "numpy.broadcast_to 函数将数组广播到新形状。它在原始数组上返回只读视图。"
   ]
  },
  {
   "cell_type": "code",
   "execution_count": 49,
   "metadata": {},
   "outputs": [
    {
     "name": "stdout",
     "output_type": "stream",
     "text": [
      "[[0 1 2 3]]\n",
      "\n",
      "[[0 1 2 3]\n",
      " [0 1 2 3]\n",
      " [0 1 2 3]\n",
      " [0 1 2 3]]\n"
     ]
    }
   ],
   "source": [
    "a = np.arange(4).reshape(1,4)\n",
    "print(a)\n",
    "print()\n",
    "print(np.broadcast_to(a,(4,4)))"
   ]
  },
  {
   "cell_type": "markdown",
   "metadata": {},
   "source": [
    "numpy.expand_dims 函数通过在指定位置插入新的轴来扩展数组形状"
   ]
  },
  {
   "cell_type": "code",
   "execution_count": 50,
   "metadata": {},
   "outputs": [
    {
     "name": "stdout",
     "output_type": "stream",
     "text": [
      "[[1 2]\n",
      " [3 4]]\n",
      "\n",
      "[[[1 2]\n",
      "  [3 4]]]\n",
      "\n",
      "(2, 2) (1, 2, 2)\n",
      "\n",
      "[[[1 2]]\n",
      "\n",
      " [[3 4]]]\n",
      "\n",
      "(2, 2) (2, 1, 2)\n",
      "2 3\n"
     ]
    }
   ],
   "source": [
    "x = np.array(([1,2],[3,4]))\n",
    "print(x)\n",
    "print()\n",
    "y = np.expand_dims(x,axis=0)\n",
    "print(y)\n",
    "print()\n",
    "print(x.shape,y.shape)\n",
    "print()\n",
    "y = np.expand_dims(x,axis=1)\n",
    "print(y)\n",
    "print()\n",
    "print(x.shape,y.shape)\n",
    "print(x.ndim,y.ndim)"
   ]
  },
  {
   "cell_type": "markdown",
   "metadata": {},
   "source": [
    "numpy.squeeze 函数从给定数组的形状中删除一维的条目"
   ]
  },
  {
   "cell_type": "code",
   "execution_count": 51,
   "metadata": {},
   "outputs": [
    {
     "name": "stdout",
     "output_type": "stream",
     "text": [
      "[[[0 1 2]\n",
      "  [3 4 5]\n",
      "  [6 7 8]]]\n",
      "[[0 1 2]\n",
      " [3 4 5]\n",
      " [6 7 8]]\n",
      "(1, 3, 3) (3, 3)\n"
     ]
    }
   ],
   "source": [
    "a = np.arange(9).reshape(1,3,3)\n",
    "print(a)\n",
    "y = np.squeeze(a)\n",
    "print(y)\n",
    "print(a.shape,y.shape)"
   ]
  },
  {
   "cell_type": "code",
   "execution_count": 52,
   "metadata": {},
   "outputs": [
    {
     "name": "stdout",
     "output_type": "stream",
     "text": [
      "[[1 2]\n",
      " [3 4]\n",
      " [5 6]\n",
      " [7 8]]\n",
      "\n",
      "[[1 2 5 6]\n",
      " [3 4 7 8]]\n"
     ]
    }
   ],
   "source": [
    "a = np.array([[1,2],[3,4]])\n",
    "b = np.array([[5,6],[7,8]])\n",
    "print(np.vstack((a,b)))\n",
    "print()\n",
    "print(np.hstack((a,b)))"
   ]
  },
  {
   "cell_type": "code",
   "execution_count": 53,
   "metadata": {
    "scrolled": true
   },
   "outputs": [
    {
     "name": "stdout",
     "output_type": "stream",
     "text": [
      "[[1 2]\n",
      " [3 4]]\n",
      "[array([[1, 2]]), array([[3, 4]])]\n",
      "\n",
      "[array([[1],\n",
      "       [3]]), array([[2],\n",
      "       [4]])]\n"
     ]
    }
   ],
   "source": [
    "a = np.array([[1,2],[3,4]])\n",
    "print(a)\n",
    "print(np.vsplit(a,2))\n",
    "print()\n",
    "print(np.hsplit(a,2))"
   ]
  },
  {
   "cell_type": "markdown",
   "metadata": {},
   "source": [
    "numpy.resize 函数返回指定大小的新数组。\n",
    "\n",
    "如果新数组大小大于原始大小，则包含原始数组中的元素的副本。有些情况用reshape会报错"
   ]
  },
  {
   "cell_type": "code",
   "execution_count": 54,
   "metadata": {},
   "outputs": [
    {
     "name": "stdout",
     "output_type": "stream",
     "text": [
      "[[1 2 3]\n",
      " [4 5 6]]\n",
      "\n",
      "(2, 3)\n",
      "\n",
      "[[1 2]\n",
      " [3 4]\n",
      " [5 6]]\n",
      "\n",
      "(3, 2)\n",
      "\n",
      "[[1 2 3]\n",
      " [4 5 6]\n",
      " [1 2 3]]\n"
     ]
    }
   ],
   "source": [
    "a = np.array([[1,2,3],[4,5,6]])\n",
    "print(a)\n",
    "print()\n",
    "print(a.shape)\n",
    "print()\n",
    "b = np.resize(a,(3,2))\n",
    "print(b)\n",
    "print()\n",
    "print(b.shape)\n",
    "print()\n",
    "print(np.resize(a,(3,3)))\n",
    "# print(a.reshape(3,3))"
   ]
  },
  {
   "cell_type": "markdown",
   "metadata": {},
   "source": [
    "numpy.append 函数在数组的末尾添加值。 追加操作会分配整个数组，并把原来的数组复制到新数组中。 此外，输入数组的维度必须匹配否则将生成ValueError。\n",
    "\n",
    "append 函数返回的始终是一个一维数组。"
   ]
  },
  {
   "cell_type": "code",
   "execution_count": 55,
   "metadata": {},
   "outputs": [
    {
     "name": "stdout",
     "output_type": "stream",
     "text": [
      "[[1 2 3]\n",
      " [4 5 6]]\n",
      "\n",
      "[1 2 3 4 5 6 7 8 9]\n",
      "\n",
      "[[1 2 3]\n",
      " [4 5 6]\n",
      " [7 8 9]]\n",
      "\n",
      "[[1 2 3 5 5 5]\n",
      " [4 5 6 7 8 9]]\n"
     ]
    }
   ],
   "source": [
    "a = np.array([[1,2,3],[4,5,6]])\n",
    "print(a)\n",
    "print()\n",
    "print(np.append(a,[7,8,9]))\n",
    "print()\n",
    "print(np.append(a,[[7,8,9]],axis=0))\n",
    "print()\n",
    "print(np.append(a,[[5,5,5],[7,8,9]],axis=1))"
   ]
  },
  {
   "cell_type": "markdown",
   "metadata": {},
   "source": [
    "numpy.insert 函数在给定索引之前，沿给定轴在输入数组中插入值。\n",
    "\n",
    "如果值的类型转换为要插入，则它与输入数组不同。 插入没有原地的，函数会返回一个新数组。 此外，如果未提供轴，则输入数组会被展开"
   ]
  },
  {
   "cell_type": "code",
   "execution_count": 56,
   "metadata": {},
   "outputs": [
    {
     "name": "stdout",
     "output_type": "stream",
     "text": [
      "[[1 2]\n",
      " [3 4]\n",
      " [5 6]]\n",
      "\n",
      "[1 2 7 8 3 4 5 6]\n"
     ]
    }
   ],
   "source": [
    "a = np.array([[1,2],[3,4],[5,6]])\n",
    "print(a)\n",
    "print()\n",
    "print(np.insert(a,2,[7,8]))#未提供轴"
   ]
  },
  {
   "cell_type": "code",
   "execution_count": 57,
   "metadata": {},
   "outputs": [
    {
     "name": "stdout",
     "output_type": "stream",
     "text": [
      "[[1 2]\n",
      " [3 4]\n",
      " [5 6]]\n",
      "\n",
      "[[1 2]\n",
      " [3 4]\n",
      " [7 8]\n",
      " [5 6]]\n"
     ]
    }
   ],
   "source": [
    "a = np.array([[1,2],[3,4],[5,6]])\n",
    "print(a)\n",
    "print()\n",
    "print(np.insert(a,2,[7,8],axis=0))#提供0轴"
   ]
  },
  {
   "cell_type": "markdown",
   "metadata": {},
   "source": [
    "numpy.delete 函数返回从输入数组中删除指定子数组的新数组。 与 insert() 函数的情况一样，如果未提供轴参数，则输入数组将展开。"
   ]
  },
  {
   "cell_type": "code",
   "execution_count": 58,
   "metadata": {},
   "outputs": [
    {
     "name": "stdout",
     "output_type": "stream",
     "text": [
      "[[ 0  1  2  3]\n",
      " [ 4  5  6  7]\n",
      " [ 8  9 10 11]]\n",
      "\n",
      "[ 0  1  2  3  4  6  7  8  9 10 11]\n"
     ]
    }
   ],
   "source": [
    "a = np.arange(12).reshape(3,4)\n",
    "print(a)\n",
    "print()\n",
    "print(np.delete(a,5))#未指定轴"
   ]
  },
  {
   "cell_type": "code",
   "execution_count": 59,
   "metadata": {},
   "outputs": [
    {
     "name": "stdout",
     "output_type": "stream",
     "text": [
      "[[ 0  1  2  3]\n",
      " [ 4  5  6  7]\n",
      " [ 8  9 10 11]]\n",
      "\n",
      "[[ 0  2  3]\n",
      " [ 4  6  7]\n",
      " [ 8 10 11]]\n"
     ]
    }
   ],
   "source": [
    "a = np.arange(12).reshape(3,4)\n",
    "print(a)\n",
    "print()\n",
    "print(np.delete(a,1,axis=1))#指定1轴"
   ]
  },
  {
   "cell_type": "markdown",
   "metadata": {},
   "source": [
    "numpy.unique 函数用于去除数组中的重复元素。"
   ]
  },
  {
   "cell_type": "code",
   "execution_count": 60,
   "metadata": {},
   "outputs": [
    {
     "name": "stdout",
     "output_type": "stream",
     "text": [
      "[2 5 6 7 8 9]\n",
      "[1 0 2 0 3 1 2 4 0 5]\n",
      "返回去重元素的重复数量：\n",
      "[2 5 6 7 8 9]\n",
      "[3 2 2 1 1 1]\n"
     ]
    }
   ],
   "source": [
    "a = np.array([5,2,6,2,7,5,6,8,2,9])\n",
    "print(np.unique(a))\n",
    "u,indices = np.unique(a,return_inverse=True)\n",
    "print(indices)\n",
    "print ('返回去重元素的重复数量：')\n",
    "u,indices = np.unique(a,return_counts = True)\n",
    "print (u)\n",
    "print (indices)"
   ]
  },
  {
   "cell_type": "markdown",
   "metadata": {},
   "source": [
    "位运算"
   ]
  },
  {
   "cell_type": "code",
   "execution_count": 61,
   "metadata": {},
   "outputs": [
    {
     "name": "stdout",
     "output_type": "stream",
     "text": [
      "二进制为\n",
      "0b1101\n",
      "0b10001\n",
      "1\n",
      "0b11101\n",
      "-0b1110\n"
     ]
    }
   ],
   "source": [
    "a,b = 13,17\n",
    "print('二进制为')\n",
    "print(bin(a))\n",
    "print(bin(b))\n",
    "print(np.bitwise_and(a,b))\n",
    "print(bin(np.bitwise_or(a,b)))\n",
    "print(bin(np.invert(a)))"
   ]
  },
  {
   "cell_type": "code",
   "execution_count": 62,
   "metadata": {},
   "outputs": [
    {
     "name": "stdout",
     "output_type": "stream",
     "text": [
      "1010\n",
      "40\n",
      "101000\n",
      "\n",
      "2\n",
      "00000010\n"
     ]
    }
   ],
   "source": [
    "print(np.binary_repr(10))\n",
    "a = np.left_shift(10,2)\n",
    "print(a)\n",
    "print(np.binary_repr(a))\n",
    "print()\n",
    "a = np.right_shift(10,2)\n",
    "print(a)\n",
    "print(np.binary_repr(a,width=8))"
   ]
  },
  {
   "cell_type": "markdown",
   "metadata": {},
   "source": [
    "字符串"
   ]
  },
  {
   "cell_type": "code",
   "execution_count": 63,
   "metadata": {},
   "outputs": [
    {
     "name": "stdout",
     "output_type": "stream",
     "text": [
      "['helloxyz']\n"
     ]
    }
   ],
   "source": [
    "print(np.char.add(['hello'],['xyz']))"
   ]
  },
  {
   "cell_type": "code",
   "execution_count": 64,
   "metadata": {},
   "outputs": [
    {
     "name": "stdout",
     "output_type": "stream",
     "text": [
      "['helloabc' 'hixyz']\n"
     ]
    }
   ],
   "source": [
    "print(np.char.add(['hello','hi'],['abc','xyz']))"
   ]
  },
  {
   "cell_type": "code",
   "execution_count": 65,
   "metadata": {},
   "outputs": [
    {
     "name": "stdout",
     "output_type": "stream",
     "text": [
      "abc abc \n"
     ]
    }
   ],
   "source": [
    "print(np.char.multiply('abc ',2))"
   ]
  },
  {
   "cell_type": "code",
   "execution_count": 66,
   "metadata": {},
   "outputs": [
    {
     "name": "stdout",
     "output_type": "stream",
     "text": [
      "--------QAQ---------\n"
     ]
    }
   ],
   "source": [
    "print(np.char.center('QAQ',20,fillchar='-'))"
   ]
  },
  {
   "cell_type": "code",
   "execution_count": 67,
   "metadata": {},
   "outputs": [
    {
     "name": "stdout",
     "output_type": "stream",
     "text": [
      "Abc\n"
     ]
    }
   ],
   "source": [
    "print(np.char.capitalize('abc'))"
   ]
  },
  {
   "cell_type": "code",
   "execution_count": 68,
   "metadata": {},
   "outputs": [
    {
     "name": "stdout",
     "output_type": "stream",
     "text": [
      "As Df Fff Df\n"
     ]
    }
   ],
   "source": [
    "print(np.char.title('as df fff df'))"
   ]
  },
  {
   "cell_type": "code",
   "execution_count": 69,
   "metadata": {},
   "outputs": [
    {
     "name": "stdout",
     "output_type": "stream",
     "text": [
      "asdffff\n"
     ]
    }
   ],
   "source": [
    "print(np.char.lower('ASDFFFF'))"
   ]
  },
  {
   "cell_type": "code",
   "execution_count": 70,
   "metadata": {},
   "outputs": [
    {
     "name": "stdout",
     "output_type": "stream",
     "text": [
      "DFSFSD\n"
     ]
    }
   ],
   "source": [
    "print(np.char.upper('dfsfsd'))"
   ]
  },
  {
   "cell_type": "code",
   "execution_count": 71,
   "metadata": {},
   "outputs": [
    {
     "name": "stdout",
     "output_type": "stream",
     "text": [
      "['wwww', 'w', 'w', 'ere', 'rer']\n"
     ]
    }
   ],
   "source": [
    "print(np.char.split('wwww.w.w.ere.rer',sep='.'))#默认分割符是空格"
   ]
  },
  {
   "cell_type": "code",
   "execution_count": 72,
   "metadata": {},
   "outputs": [
    {
     "name": "stdout",
     "output_type": "stream",
     "text": [
      "['dsfsdf', 'sdds', 'dfs']\n"
     ]
    }
   ],
   "source": [
    "print(np.char.splitlines('''dsfsdf\\nsdds\\ndfs'''))"
   ]
  },
  {
   "cell_type": "code",
   "execution_count": 73,
   "metadata": {},
   "outputs": [
    {
     "name": "stdout",
     "output_type": "stream",
     "text": [
      "d dsfdsaa\n",
      "['d' 'dsfdsaa']\n"
     ]
    }
   ],
   "source": [
    "print(np.char.strip('ssd dsfdsaas','s'))\n",
    "print(np.char.strip(['ssds','sdsfdsaass'],'s'))"
   ]
  },
  {
   "cell_type": "code",
   "execution_count": 74,
   "metadata": {},
   "outputs": [
    {
     "name": "stdout",
     "output_type": "stream",
     "text": [
      "a:b:c:d:e:f:g\n"
     ]
    }
   ],
   "source": [
    "print(np.char.join(':','abcdefg'))"
   ]
  },
  {
   "cell_type": "code",
   "execution_count": 75,
   "metadata": {},
   "outputs": [
    {
     "name": "stdout",
     "output_type": "stream",
     "text": [
      "AA ddAA AAddd\n"
     ]
    }
   ],
   "source": [
    "print(np.char.replace('aa ddaa aaddd','aa','AA'))"
   ]
  },
  {
   "cell_type": "code",
   "execution_count": 76,
   "metadata": {},
   "outputs": [
    {
     "name": "stdout",
     "output_type": "stream",
     "text": [
      "b'\\xa6\\xa6\\xa6\\xa6\\x85\\x85\\x85'\n",
      "wwwweee\n"
     ]
    }
   ],
   "source": [
    "a = np.char.encode('wwwweee','cp500')\n",
    "print(a)\n",
    "print(np.char.decode(a,'cp500'))"
   ]
  },
  {
   "cell_type": "code",
   "execution_count": 77,
   "metadata": {},
   "outputs": [
    {
     "name": "stdout",
     "output_type": "stream",
     "text": [
      "[0.         0.5        0.70710678 0.8660254  1.        ]\n"
     ]
    }
   ],
   "source": [
    "a = np.array([0,30,45,60,90])\n",
    "print(np.sin(a*np.pi/180))"
   ]
  },
  {
   "cell_type": "markdown",
   "metadata": {},
   "source": [
    "numpy.floor() 返回小于或者等于指定表达式的最大整数，即向下取整。"
   ]
  },
  {
   "cell_type": "code",
   "execution_count": 78,
   "metadata": {},
   "outputs": [
    {
     "name": "stdout",
     "output_type": "stream",
     "text": [
      "[-1.7  1.5 -0.2  0.6 10. ]\n",
      "[-2.  1. -1.  0. 10.]\n"
     ]
    }
   ],
   "source": [
    "a = np.array([-1.7,1.5,-0.2,0.6,10])\n",
    "print(a)\n",
    "print(np.floor(a))"
   ]
  },
  {
   "cell_type": "markdown",
   "metadata": {},
   "source": [
    "numpy.ceil() 返回大于或者等于指定表达式的最小整数，即向上取整。"
   ]
  },
  {
   "cell_type": "code",
   "execution_count": 79,
   "metadata": {},
   "outputs": [
    {
     "name": "stdout",
     "output_type": "stream",
     "text": [
      "[-1.7  1.5 -0.2  0.6 10. ]\n",
      "[-1.  2. -0.  1. 10.]\n"
     ]
    }
   ],
   "source": [
    "a = np.array([-1.7,1.5,-0.2,0.6,10])\n",
    "print(a)\n",
    "print(np.ceil(a))"
   ]
  },
  {
   "cell_type": "markdown",
   "metadata": {},
   "source": [
    "算数函数"
   ]
  },
  {
   "cell_type": "code",
   "execution_count": 80,
   "metadata": {},
   "outputs": [
    {
     "name": "stdout",
     "output_type": "stream",
     "text": [
      "[[0. 1. 2.]\n",
      " [3. 4. 5.]\n",
      " [6. 7. 8.]]\n",
      "---------------------\n",
      "[10 10 10]\n",
      "---------------------\n",
      "[[10. 11. 12.]\n",
      " [13. 14. 15.]\n",
      " [16. 17. 18.]]\n"
     ]
    }
   ],
   "source": [
    "a = np.arange(9,dtype=np.float_).reshape(3,3)\n",
    "print(a)\n",
    "b = np.array([10,10,10])\n",
    "print('---------------------')\n",
    "print(b)\n",
    "print('---------------------')\n",
    "print(np.add(a,b))"
   ]
  },
  {
   "cell_type": "code",
   "execution_count": 81,
   "metadata": {},
   "outputs": [
    {
     "name": "stdout",
     "output_type": "stream",
     "text": [
      "[[10.  9.  8.]\n",
      " [ 7.  6.  5.]\n",
      " [ 4.  3.  2.]]\n"
     ]
    }
   ],
   "source": [
    "print(np.subtract(b,a))"
   ]
  },
  {
   "cell_type": "code",
   "execution_count": 82,
   "metadata": {},
   "outputs": [
    {
     "name": "stdout",
     "output_type": "stream",
     "text": [
      "[[ 0. 10. 20.]\n",
      " [30. 40. 50.]\n",
      " [60. 70. 80.]]\n"
     ]
    }
   ],
   "source": [
    "print(np.multiply(a,b))"
   ]
  },
  {
   "cell_type": "code",
   "execution_count": 83,
   "metadata": {},
   "outputs": [
    {
     "name": "stdout",
     "output_type": "stream",
     "text": [
      "[[0.  0.1 0.2]\n",
      " [0.3 0.4 0.5]\n",
      " [0.6 0.7 0.8]]\n"
     ]
    }
   ],
   "source": [
    "print(np.divide(a,b))"
   ]
  },
  {
   "cell_type": "code",
   "execution_count": 84,
   "metadata": {},
   "outputs": [
    {
     "name": "stdout",
     "output_type": "stream",
     "text": [
      "[  0.25   1.33   1.   100.  ]\n",
      "[4.        0.7518797 1.        0.01     ]\n"
     ]
    }
   ],
   "source": [
    "a = np.array([0.25,  1.33,  1,  100])  \n",
    "print(a)\n",
    "print(np.reciprocal(a))"
   ]
  },
  {
   "cell_type": "code",
   "execution_count": 85,
   "metadata": {},
   "outputs": [
    {
     "name": "stdout",
     "output_type": "stream",
     "text": [
      "[10 10 10]\n",
      "[100 100 100]\n",
      "[  10  100 1000]\n"
     ]
    }
   ],
   "source": [
    "a = np.array([10,10,10])\n",
    "print(a)\n",
    "print(np.power(a,2))\n",
    "b = np.array([1,2,3])\n",
    "print(np.power(a,b))"
   ]
  },
  {
   "cell_type": "code",
   "execution_count": 86,
   "metadata": {},
   "outputs": [
    {
     "name": "stdout",
     "output_type": "stream",
     "text": [
      "[3 5 7]\n",
      "--------------\n",
      "[1 2 3]\n",
      "--------------\n",
      "[0 1 1]\n",
      "--------------\n",
      "[0 1 1]\n"
     ]
    }
   ],
   "source": [
    "a = np.array([10,20,30])\n",
    "a = np.array([3,5,7])\n",
    "print(a)\n",
    "print('--------------')\n",
    "print(b)\n",
    "print('--------------')\n",
    "print(np.mod(a,b))\n",
    "print('--------------')\n",
    "print(np.remainder(a,b))"
   ]
  },
  {
   "cell_type": "code",
   "execution_count": 87,
   "metadata": {},
   "outputs": [
    {
     "name": "stdout",
     "output_type": "stream",
     "text": [
      "[[3 7 5]\n",
      " [8 4 3]\n",
      " [2 4 9]]\n",
      "---------------\n",
      "[3 3 2]\n",
      "---------------\n",
      "[2 4 3]\n",
      "---------------\n",
      "[8 7 9]\n",
      "---------------\n",
      "[8 7 9]\n"
     ]
    }
   ],
   "source": [
    "a = np.array([[3,7,5],[8,4,3],[2,4,9]])\n",
    "print(a)\n",
    "print('---------------')\n",
    "print(np.amin(a,1))\n",
    "print('---------------')\n",
    "print(np.amin(a,0))\n",
    "print('---------------')\n",
    "print(np.amax(a,0))\n",
    "print('---------------')\n",
    "print(np.amax(a,axis=0))"
   ]
  },
  {
   "cell_type": "markdown",
   "metadata": {},
   "source": [
    "numpy.ptp()函数计算数组中元素最大值与最小值的差（最大值 - 最小值）。"
   ]
  },
  {
   "cell_type": "code",
   "execution_count": 88,
   "metadata": {},
   "outputs": [
    {
     "name": "stdout",
     "output_type": "stream",
     "text": [
      "[[3 7 5]\n",
      " [8 4 3]\n",
      " [2 4 9]]\n",
      "7\n",
      "\n",
      "[6 3 6]\n",
      "\n",
      "[4 5 7]\n"
     ]
    }
   ],
   "source": [
    "a = np.array([[3,7,5],[8,4,3],[2,4,9]])\n",
    "print(a)\n",
    "print(np.ptp(a))\n",
    "print()\n",
    "print(np.ptp(a,axis=0))\n",
    "print()\n",
    "print(np.ptp(a,axis=1))"
   ]
  },
  {
   "cell_type": "code",
   "execution_count": 89,
   "metadata": {},
   "outputs": [
    {
     "name": "stdout",
     "output_type": "stream",
     "text": [
      "我们的数组是：\n",
      "[[30 65 70]\n",
      " [80 95 10]\n",
      " [50 90 60]]\n",
      "\n",
      "\n",
      "65.0\n",
      "\n",
      "\n",
      "[50. 90. 60.]\n",
      "\n",
      "\n",
      "[65. 80. 60.]\n"
     ]
    }
   ],
   "source": [
    "a = np.array([[30,65,70],[80,95,10],[50,90,60]])  \n",
    "print ('我们的数组是：')\n",
    "print (a)\n",
    "print ('\\n')\n",
    "print(np.median(a))\n",
    "print ('\\n')\n",
    "print(np.median(a,axis=0))\n",
    "print ('\\n')\n",
    "print(np.median(a,axis=1))"
   ]
  },
  {
   "cell_type": "code",
   "execution_count": 90,
   "metadata": {},
   "outputs": [
    {
     "name": "stdout",
     "output_type": "stream",
     "text": [
      "61.111111111111114\n",
      "\n",
      "\n",
      "[53.33333333 83.33333333 46.66666667]\n",
      "\n",
      "\n",
      "[55.         61.66666667 66.66666667]\n"
     ]
    }
   ],
   "source": [
    "print(np.mean(a))\n",
    "print ('\\n')\n",
    "print(np.mean(a,axis=0))\n",
    "print ('\\n')\n",
    "print(np.mean(a,axis=1))"
   ]
  },
  {
   "cell_type": "markdown",
   "metadata": {},
   "source": [
    "numpy.average() 函数根据在另一个数组中给出的各自的权重计算数组中元素的加权平均值。"
   ]
  },
  {
   "cell_type": "code",
   "execution_count": 91,
   "metadata": {},
   "outputs": [
    {
     "name": "stdout",
     "output_type": "stream",
     "text": [
      "[1 2 3 4]\n",
      "\n",
      "2.5\n",
      "2.0\n"
     ]
    }
   ],
   "source": [
    "a = np.array([1,2,3,4])\n",
    "print(a)\n",
    "print()\n",
    "print(np.average(a))\n",
    "\n",
    "wet = np.array([4,3,2,1])\n",
    "print(np.average(a,weights = wet))"
   ]
  },
  {
   "cell_type": "markdown",
   "metadata": {},
   "source": [
    "标准差"
   ]
  },
  {
   "cell_type": "code",
   "execution_count": 92,
   "metadata": {},
   "outputs": [
    {
     "name": "stdout",
     "output_type": "stream",
     "text": [
      "1.118033988749895\n"
     ]
    }
   ],
   "source": [
    "print(np.std([1,2,3,4]))"
   ]
  },
  {
   "cell_type": "markdown",
   "metadata": {},
   "source": [
    "方差"
   ]
  },
  {
   "cell_type": "code",
   "execution_count": 93,
   "metadata": {},
   "outputs": [
    {
     "name": "stdout",
     "output_type": "stream",
     "text": [
      "1.25\n"
     ]
    }
   ],
   "source": [
    "print(np.var([1,2,3,4]))"
   ]
  },
  {
   "cell_type": "code",
   "execution_count": 94,
   "metadata": {},
   "outputs": [
    {
     "name": "stdout",
     "output_type": "stream",
     "text": [
      "[[3 7]\n",
      " [9 1]]\n",
      "\n",
      "[[3 7]\n",
      " [1 9]]\n",
      "\n",
      "[[3 1]\n",
      " [9 7]]\n",
      "\n",
      "[[3 7]\n",
      " [1 9]]\n"
     ]
    }
   ],
   "source": [
    "a = np.array([[3,7],[9,1]])\n",
    "print(a)\n",
    "print()\n",
    "print(np.sort(a))\n",
    "print()\n",
    "print(np.sort(a,axis = 0))\n",
    "print()\n",
    "print(np.sort(a,axis = 1))"
   ]
  },
  {
   "cell_type": "code",
   "execution_count": 95,
   "metadata": {},
   "outputs": [
    {
     "name": "stdout",
     "output_type": "stream",
     "text": [
      "[(b'raju', 21) (b'anil', 25) (b'ravi', 17) (b'amar', 27)]\n",
      "\n",
      "[(b'amar', 27) (b'anil', 25) (b'raju', 21) (b'ravi', 17)]\n",
      "\n",
      "[(b'ravi', 17) (b'raju', 21) (b'anil', 25) (b'amar', 27)]\n"
     ]
    }
   ],
   "source": [
    "dt = np.dtype([('name','S10'),('age',int)])\n",
    "a = np.array([('raju',21),('anil',25),('ravi',17),('amar',27)],dtype=dt)\n",
    "print(a)\n",
    "print()\n",
    "print(np.sort(a,order='name'))\n",
    "print()\n",
    "print(np.sort(a,order='age'))"
   ]
  },
  {
   "cell_type": "code",
   "execution_count": 96,
   "metadata": {},
   "outputs": [
    {
     "name": "stdout",
     "output_type": "stream",
     "text": [
      "[3 1 2]\n",
      "\n",
      "[1 2 0]\n",
      "[1 2 3]\n",
      "1\n",
      "2\n",
      "3\n"
     ]
    }
   ],
   "source": [
    "a = np.array([3,1,2])\n",
    "print(a)\n",
    "print()\n",
    "y = np.argsort(a)\n",
    "print(y)\n",
    "print(a[y])\n",
    "for i in y:\n",
    "    print(a[i])"
   ]
  },
  {
   "cell_type": "markdown",
   "metadata": {},
   "source": [
    "numpy.lexsort() 用于对多个序列进行排序。把它想象成对电子表格进行排序，每一列代表一个序列，排序时优先照顾靠后的列。"
   ]
  },
  {
   "cell_type": "code",
   "execution_count": 102,
   "metadata": {
    "scrolled": true
   },
   "outputs": [
    {
     "name": "stdout",
     "output_type": "stream",
     "text": [
      "[3 1 0 2]\n",
      "\n",
      "[3 0 1 2]\n"
     ]
    }
   ],
   "source": [
    "nm =  ('raju','anil','ravi','amar') \n",
    "dv =  ('f.y.',  's.y.',  's.y.',  'f.y.') \n",
    "ind1 = np.lexsort((dv,nm))\n",
    "print(ind1)\n",
    "print()\n",
    "ind2 = np.lexsort((nm,dv))\n",
    "print(ind2)"
   ]
  },
  {
   "cell_type": "code",
   "execution_count": 103,
   "metadata": {},
   "outputs": [
    {
     "name": "stdout",
     "output_type": "stream",
     "text": [
      "[1.+0.j 3.+0.j 4.+0.j 5.+0.j 6.+0.j 7.+0.j]\n"
     ]
    }
   ],
   "source": [
    "print(np.sort_complex([5,7,4,6,3,1]))"
   ]
  },
  {
   "cell_type": "code",
   "execution_count": 104,
   "metadata": {},
   "outputs": [
    {
     "data": {
      "text/plain": [
       "array([1.+2.j, 2.-1.j, 3.-3.j, 3.-2.j, 3.+5.j])"
      ]
     },
     "execution_count": 104,
     "metadata": {},
     "output_type": "execute_result"
    }
   ],
   "source": [
    " np.sort_complex([1 + 2j, 2 - 1j, 3 - 2j, 3 - 3j, 3 + 5j])"
   ]
  },
  {
   "cell_type": "markdown",
   "metadata": {},
   "source": [
    "partition() 分区排序："
   ]
  },
  {
   "cell_type": "code",
   "execution_count": 107,
   "metadata": {},
   "outputs": [
    {
     "name": "stdout",
     "output_type": "stream",
     "text": [
      "[2 1 3 4]\n",
      "[1 2 3 4]\n"
     ]
    }
   ],
   "source": [
    "a = np.array([3,4,2,1])\n",
    "print(np.partition(a,3))\n",
    "print(np.partition(a,(1,3)))"
   ]
  },
  {
   "cell_type": "code",
   "execution_count": 121,
   "metadata": {},
   "outputs": [
    {
     "name": "stdout",
     "output_type": "stream",
     "text": [
      "[5 3 2 6 4 0 1 7]\n",
      "[ 10  39  23   0   1  46  57 120]\n",
      "\n",
      "[6 1 2 3 4 5 0 7]\n",
      "[  0  57  23  39   1  10  46 120]\n",
      "\n",
      "[6 4 5 2 1 3 0 7]\n",
      "[  0   1  10  23  57  39  46 120]\n",
      "10\n",
      "\n",
      "[ 46  57  23  39   1  10   0 120]\n"
     ]
    }
   ],
   "source": [
    "arr = np.array([46, 57, 23, 39, 1, 10, 0, 120])\n",
    "print(np.argpartition(arr,len(arr)-1))\n",
    "print(arr[np.argpartition(arr,len(arr)-1)])#排好最大值\n",
    "print()\n",
    "print(np.argpartition(arr,0))\n",
    "print(arr[np.argpartition(arr,0)])#排好最小值\n",
    "print()\n",
    "print(np.argpartition(arr,[2,3]))\n",
    "print(arr[np.argpartition(arr,[2,3])])#排好第三第四个\n",
    "print(arr[np.argpartition(arr,[2,3])][2])#打印第三大的元素\n",
    "print()\n",
    "print(arr)"
   ]
  },
  {
   "cell_type": "markdown",
   "metadata": {},
   "source": [
    "numpy.argmax() 和 numpy.argmin()函数分别沿给定轴返回最大和最小元素的索引。"
   ]
  },
  {
   "cell_type": "code",
   "execution_count": 122,
   "metadata": {},
   "outputs": [
    {
     "name": "stdout",
     "output_type": "stream",
     "text": [
      "[[30 40 70]\n",
      " [80 20 10]\n",
      " [50 90 60]]\n",
      "\n",
      "[30 40 70 80 20 10 50 90 60]\n",
      "7\n",
      "\n",
      "[1 2 0]\n",
      "\n",
      "[2 0 1]\n"
     ]
    }
   ],
   "source": [
    "a = np.array([[30,40,70],[80,20,10],[50,90,60]])  \n",
    "print(a)\n",
    "print()\n",
    "print(a.flatten())\n",
    "print(np.argmax(a))\n",
    "print()\n",
    "print(np.argmax(a,axis=0))\n",
    "print()\n",
    "print(np.argmax(a,axis=1))"
   ]
  },
  {
   "cell_type": "markdown",
   "metadata": {},
   "source": [
    "numpy.nonzero() 函数返回输入数组中非零元素的索引。"
   ]
  },
  {
   "cell_type": "code",
   "execution_count": 123,
   "metadata": {},
   "outputs": [
    {
     "name": "stdout",
     "output_type": "stream",
     "text": [
      "[[30 40  0]\n",
      " [ 0 20 10]\n",
      " [50  0 60]]\n",
      "(array([0, 0, 1, 1, 2, 2], dtype=int64), array([0, 1, 1, 2, 0, 2], dtype=int64))\n"
     ]
    }
   ],
   "source": [
    "a = np.array([[30,40,0],[0,20,10],[50,0,60]]) \n",
    "print(a)\n",
    "print(np.nonzero(a))#返回行索引数组和列索引数组"
   ]
  },
  {
   "cell_type": "markdown",
   "metadata": {},
   "source": [
    "numpy.where() 函数返回输入数组中满足给定条件的元素的索引。"
   ]
  },
  {
   "cell_type": "code",
   "execution_count": 124,
   "metadata": {},
   "outputs": [
    {
     "name": "stdout",
     "output_type": "stream",
     "text": [
      "[[0. 1. 2.]\n",
      " [3. 4. 5.]\n",
      " [6. 7. 8.]]\n",
      "\n",
      "(array([1, 1, 2, 2, 2], dtype=int64), array([1, 2, 0, 1, 2], dtype=int64))\n",
      "\n",
      "[4. 5. 6. 7. 8.]\n"
     ]
    }
   ],
   "source": [
    "x = np.arange(9.).reshape(3,3)\n",
    "print(x)\n",
    "print()\n",
    "y = np.where(x>3)\n",
    "print(y)\n",
    "print()\n",
    "print(x[y])"
   ]
  },
  {
   "cell_type": "markdown",
   "metadata": {},
   "source": [
    "numpy.extract() 函数根据某个条件从数组中抽取元素，返回满条件的元素。"
   ]
  },
  {
   "cell_type": "code",
   "execution_count": 127,
   "metadata": {},
   "outputs": [
    {
     "name": "stdout",
     "output_type": "stream",
     "text": [
      "[[0. 1. 2.]\n",
      " [3. 4. 5.]\n",
      " [6. 7. 8.]]\n",
      "\n",
      "[0. 2. 4. 6. 8.]\n",
      "\n",
      "[6. 7. 8.]\n"
     ]
    }
   ],
   "source": [
    "x = np.arange(9.).reshape(3,3)\n",
    "print(x)\n",
    "print()\n",
    "condition = np.mod(x,2) == 0\n",
    "print(np.extract(condition,x))\n",
    "print()\n",
    "condition = x>5\n",
    "print(np.extract(condition,x))"
   ]
  },
  {
   "cell_type": "markdown",
   "metadata": {},
   "source": [
    "视图一般发生在：\n",
    "\n",
    "1、numpy 的切片操作返回原数据的视图。\n",
    "\n",
    "2、调用 ndarray 的 view() 函数产生一个视图。\n",
    "\n",
    "副本一般发生在：\n",
    "\n",
    "Python 序列的切片操作，调用deepCopy()函数。\n",
    "\n",
    "调用 ndarray 的 copy() 函数产生一个副本。"
   ]
  },
  {
   "cell_type": "code",
   "execution_count": 134,
   "metadata": {},
   "outputs": [
    {
     "name": "stdout",
     "output_type": "stream",
     "text": [
      "[0 1 2 3 4 5 6 7 8]\n",
      "[0 1 2 3 4 5 6 7 8]\n",
      "\n",
      "96356032 96356032\n",
      "\n",
      "[[0 1 2]\n",
      " [3 4 5]\n",
      " [6 7 8]]\n",
      "[[0 1 2]\n",
      " [3 4 5]\n",
      " [6 7 8]]\n"
     ]
    }
   ],
   "source": [
    "a = np.arange(9)\n",
    "b = a\n",
    "print(a)\n",
    "print(b)\n",
    "print()\n",
    "print(id(a),id(b))\n",
    "print()\n",
    "a.shape=3,3#一个数组的任何变化都反映在另一个数组上\n",
    "print(a)\n",
    "print(b)"
   ]
  },
  {
   "cell_type": "markdown",
   "metadata": {},
   "source": [
    "ndarray.view() 方会创建一个新的数组对象，该方法创建的新数组的维数更改不会更改原始数据的维数。"
   ]
  },
  {
   "cell_type": "code",
   "execution_count": 135,
   "metadata": {},
   "outputs": [
    {
     "name": "stdout",
     "output_type": "stream",
     "text": [
      "[[0 1]\n",
      " [2 3]\n",
      " [4 5]]\n",
      "\n",
      "96356112 96356192\n",
      "[[0 1 2]\n",
      " [3 4 5]] \n",
      "\n",
      "[[0 1]\n",
      " [2 3]\n",
      " [4 5]]\n"
     ]
    }
   ],
   "source": [
    "a = np.arange(6).reshape(3,2)\n",
    "print(a)\n",
    "print()\n",
    "b = a.view()\n",
    "print(id(a),id(b))\n",
    "b.shape=2,3\n",
    "print(b,'\\n')\n",
    "print(a)"
   ]
  },
  {
   "cell_type": "markdown",
   "metadata": {},
   "source": [
    "使用切片创建视图修改数据会影响到原始数组："
   ]
  },
  {
   "cell_type": "code",
   "execution_count": 139,
   "metadata": {},
   "outputs": [
    {
     "name": "stdout",
     "output_type": "stream",
     "text": [
      "[ 0  1  2  3  4  5  6  7  8  9 10 11] \n",
      "\n",
      "[  0   1   2   3 123 234   6   7   8   9  10  11] \n",
      "\n",
      "96356912 96355392 96356032\n"
     ]
    }
   ],
   "source": [
    "arr = np.arange(12)\n",
    "print(arr,'\\n')\n",
    "a = arr[3:]\n",
    "b = arr[3:]\n",
    "a[1] = 123\n",
    "b[2] = 234\n",
    "print(arr,'\\n')\n",
    "print(id(arr),id(a),id(b))#a,b 的 id，他们是不同的，也就是说，视图虽然指向原数据，但是他们和赋值引用还是有区别的"
   ]
  },
  {
   "cell_type": "markdown",
   "metadata": {},
   "source": [
    "ndarray.copy() 函数创建一个副本。 对副本数据进行修改，不会影响到原始数据，它们物理内存不在同一位置。"
   ]
  },
  {
   "cell_type": "code",
   "execution_count": 140,
   "metadata": {},
   "outputs": [
    {
     "name": "stdout",
     "output_type": "stream",
     "text": [
      "[[10 10]\n",
      " [ 2  3]\n",
      " [ 4  5]] \n",
      "\n",
      "[[10 10]\n",
      " [ 2  3]\n",
      " [ 4  5]] \n",
      "\n",
      "False\n",
      "[[10 10]\n",
      " [ 2  3]\n",
      " [ 4  5]] \n",
      "\n",
      "[[100  10]\n",
      " [  2   3]\n",
      " [  4   5]] \n",
      "\n"
     ]
    }
   ],
   "source": [
    "a = np.array([[10,10],[2,3],[4,5]])\n",
    "print(a,'\\n')\n",
    "b = a.copy()\n",
    "print(b,'\\n')\n",
    "print(b is a)\n",
    "b[0,0] = 100\n",
    "print(a,'\\n')\n",
    "print(b,'\\n')"
   ]
  },
  {
   "cell_type": "markdown",
   "metadata": {},
   "source": [
    "NumPy 矩阵库(Matrix)"
   ]
  },
  {
   "cell_type": "code",
   "execution_count": 144,
   "metadata": {},
   "outputs": [
    {
     "name": "stdout",
     "output_type": "stream",
     "text": [
      "[[1.20953760e-312 8.27578359e-313]\n",
      " [2.12199579e-313 2.54639495e-312]]\n"
     ]
    }
   ],
   "source": [
    "import numpy.matlib\n",
    "print(np.matlib.empty((2,2)))"
   ]
  },
  {
   "cell_type": "code",
   "execution_count": 145,
   "metadata": {},
   "outputs": [
    {
     "name": "stdout",
     "output_type": "stream",
     "text": [
      "[[0. 0.]\n",
      " [0. 0.]]\n"
     ]
    }
   ],
   "source": [
    "print(np.matlib.zeros((2,2)))"
   ]
  },
  {
   "cell_type": "code",
   "execution_count": 146,
   "metadata": {},
   "outputs": [
    {
     "name": "stdout",
     "output_type": "stream",
     "text": [
      "[[1. 1.]\n",
      " [1. 1.]]\n"
     ]
    }
   ],
   "source": [
    "print(np.matlib.ones((2,2)))"
   ]
  },
  {
   "cell_type": "code",
   "execution_count": 153,
   "metadata": {},
   "outputs": [
    {
     "name": "stdout",
     "output_type": "stream",
     "text": [
      "[[1 0 0 0 0 0 0 0]\n",
      " [0 1 0 0 0 0 0 0]\n",
      " [0 0 1 0 0 0 0 0]\n",
      " [0 0 0 1 0 0 0 0]\n",
      " [0 0 0 0 1 0 0 0]]\n"
     ]
    }
   ],
   "source": [
    "print(np.matlib.eye(5,8,0,int))"
   ]
  },
  {
   "cell_type": "markdown",
   "metadata": {},
   "source": [
    "numpy.matlib.identity() 函数返回给定大小的单位矩阵。"
   ]
  },
  {
   "cell_type": "code",
   "execution_count": 155,
   "metadata": {},
   "outputs": [
    {
     "name": "stdout",
     "output_type": "stream",
     "text": [
      "[[1 0 0 0 0]\n",
      " [0 1 0 0 0]\n",
      " [0 0 1 0 0]\n",
      " [0 0 0 1 0]\n",
      " [0 0 0 0 1]]\n"
     ]
    }
   ],
   "source": [
    "print(np.matlib.identity(5,int))"
   ]
  },
  {
   "cell_type": "markdown",
   "metadata": {},
   "source": [
    "numpy.matlib.rand() 函数创建一个给定大小的矩阵，数据是随机填充的。"
   ]
  },
  {
   "cell_type": "code",
   "execution_count": 157,
   "metadata": {},
   "outputs": [
    {
     "name": "stdout",
     "output_type": "stream",
     "text": [
      "[[0.26807764 0.37356956 0.41307383 0.02668281 0.9670862  0.46099585]\n",
      " [0.32368469 0.07681744 0.26268228 0.20896912 0.72959072 0.24462283]\n",
      " [0.85308001 0.56491486 0.92626894 0.67277787 0.47463177 0.58892313]\n",
      " [0.08597865 0.65507874 0.27510505 0.29970882 0.99242014 0.10034579]]\n"
     ]
    }
   ],
   "source": [
    "print(np.matlib.rand(4,6))"
   ]
  },
  {
   "cell_type": "code",
   "execution_count": 163,
   "metadata": {},
   "outputs": [
    {
     "name": "stdout",
     "output_type": "stream",
     "text": [
      "[[1 2]\n",
      " [3 4]]\n",
      "\n",
      " [[1 2]\n",
      " [3 4]]\n",
      "\n",
      " [[1 2]\n",
      " [3 4]]\n"
     ]
    }
   ],
   "source": [
    "i = np.matrix('1,2;3,4')\n",
    "print(i)\n",
    "j = np.asarray(i)\n",
    "print('\\n',j)\n",
    "k = np.asmatrix(j)\n",
    "print('\\n',k)"
   ]
  },
  {
   "cell_type": "markdown",
   "metadata": {},
   "source": [
    "dot矩阵乘法"
   ]
  },
  {
   "cell_type": "code",
   "execution_count": 166,
   "metadata": {},
   "outputs": [
    {
     "name": "stdout",
     "output_type": "stream",
     "text": [
      "[[37 40]\n",
      " [85 92]]\n"
     ]
    }
   ],
   "source": [
    "a = np.array([[1,2],[3,4]])\n",
    "b = np.array([[11,12],[13,14]])\n",
    "print(np.dot(a,b))"
   ]
  },
  {
   "cell_type": "code",
   "execution_count": 168,
   "metadata": {},
   "outputs": [
    {
     "name": "stdout",
     "output_type": "stream",
     "text": [
      "[1 2 3 4]\n",
      "[11 12 13 14]\n",
      "130\n"
     ]
    }
   ],
   "source": [
    "print(a.flatten())\n",
    "print(b.flatten())\n",
    "print(np.vdot(a,b))"
   ]
  },
  {
   "cell_type": "code",
   "execution_count": 169,
   "metadata": {},
   "outputs": [
    {
     "name": "stdout",
     "output_type": "stream",
     "text": [
      "2\n"
     ]
    }
   ],
   "source": [
    "print (np.inner(np.array([1,2,3]),np.array([0,1,0])))"
   ]
  },
  {
   "cell_type": "code",
   "execution_count": 170,
   "metadata": {},
   "outputs": [
    {
     "name": "stdout",
     "output_type": "stream",
     "text": [
      "[[35 41]\n",
      " [81 95]]\n"
     ]
    }
   ],
   "source": [
    "print(np.inner(a,b))"
   ]
  },
  {
   "cell_type": "code",
   "execution_count": 171,
   "metadata": {},
   "outputs": [
    {
     "name": "stdout",
     "output_type": "stream",
     "text": [
      "[[4 1]\n",
      " [2 2]]\n"
     ]
    }
   ],
   "source": [
    "a = [[1,0],[0,1]] \n",
    "b = [[4,1],[2,2]] \n",
    "print (np.matmul(a,b))"
   ]
  },
  {
   "cell_type": "code",
   "execution_count": 172,
   "metadata": {},
   "outputs": [
    {
     "name": "stdout",
     "output_type": "stream",
     "text": [
      "[1 2]\n",
      "[1 2]\n"
     ]
    }
   ],
   "source": [
    "a = [[1,0],[0,1]] \n",
    "b = [1,2] \n",
    "print (np.matmul(a,b))\n",
    "print (np.matmul(b,a))"
   ]
  },
  {
   "cell_type": "code",
   "execution_count": 174,
   "metadata": {},
   "outputs": [
    {
     "name": "stdout",
     "output_type": "stream",
     "text": [
      "[[[0 1]\n",
      "  [2 3]]\n",
      "\n",
      " [[4 5]\n",
      "  [6 7]]]\n",
      "[[0 1]\n",
      " [2 3]]\n",
      "[[[ 2  3]\n",
      "  [ 6 11]]\n",
      "\n",
      " [[10 19]\n",
      "  [14 27]]]\n"
     ]
    }
   ],
   "source": [
    "a = np.arange(8).reshape(2,2,2) \n",
    "print(a)\n",
    "print(b)\n",
    "b = np.arange(4).reshape(2,2) \n",
    "print (np.matmul(a,b))"
   ]
  },
  {
   "cell_type": "code",
   "execution_count": 180,
   "metadata": {},
   "outputs": [
    {
     "name": "stdout",
     "output_type": "stream",
     "text": [
      "-2\n"
     ]
    }
   ],
   "source": [
    "a = np.array([[1,2], [3,4]]) \n",
    "print (int(np.linalg.det(a)))"
   ]
  },
  {
   "cell_type": "code",
   "execution_count": 182,
   "metadata": {},
   "outputs": [
    {
     "name": "stdout",
     "output_type": "stream",
     "text": [
      "[[ 6  1  1]\n",
      " [ 4 -2  5]\n",
      " [ 2  8  7]] \n",
      "\n",
      "-306.0\n"
     ]
    }
   ],
   "source": [
    "b = np.array([[6,1,1], [4, -2, 5], [2,8,7]]) \n",
    "print(b,'\\n')\n",
    "print(np.linalg.det(b))"
   ]
  },
  {
   "cell_type": "code",
   "execution_count": 183,
   "metadata": {},
   "outputs": [],
   "source": [
    "a = np.array([1,2,3,4,5])\n",
    "np.save('testpandasdata/outfile.npy',a)#直接看会乱码，用load加载之后看就可以了"
   ]
  },
  {
   "cell_type": "code",
   "execution_count": 185,
   "metadata": {},
   "outputs": [
    {
     "name": "stdout",
     "output_type": "stream",
     "text": [
      "[1 2 3 4 5]\n"
     ]
    }
   ],
   "source": [
    "b = np.load('testpandasdata/outfile.npy')\n",
    "print(b)"
   ]
  },
  {
   "cell_type": "code",
   "execution_count": 192,
   "metadata": {},
   "outputs": [
    {
     "name": "stdout",
     "output_type": "stream",
     "text": [
      "[[1 2 3]\n",
      " [4 5 6]]\n",
      "[0.  0.1 0.2 0.3 0.4 0.5 0.6 0.7 0.8 0.9]\n"
     ]
    }
   ],
   "source": [
    "a = np.array([[1,2,3],[4,5,6]])\n",
    "b = np.arange(0, 1.0, 0.1)\n",
    "c = np.sin(b)\n",
    "np.savez('testpandasdata/runoob',a,b1=b,c1 = c)#非关键字参数传递的数组会自动起名为 arr_0, arr_1, …\n",
    "r = np.load('testpandasdata/runoob.npz')\n",
    "print(r['arr_0'])#非关键字参数传递的数组会自动起名为 arr_0, arr_1, …\n",
    "print(r['b1'])"
   ]
  },
  {
   "cell_type": "code",
   "execution_count": 196,
   "metadata": {},
   "outputs": [
    {
     "name": "stdout",
     "output_type": "stream",
     "text": [
      "[[0. 1. 2.]\n",
      " [3. 4. 5.]]\n"
     ]
    }
   ],
   "source": [
    "a = np.arange(6).reshape(2,-1)  #一个参数为-1时，那么reshape函数会根据另一个参数的维度计算出数组的另外一个shape属性值。\n",
    "np.savetxt('testpandasdata/out.txt',a,delimiter=',')\n",
    "b = np.loadtxt('testpandasdata/out.txt',delimiter=',')\n",
    "print(b)"
   ]
  },
  {
   "cell_type": "code",
   "execution_count": null,
   "metadata": {},
   "outputs": [],
   "source": []
  },
  {
   "cell_type": "code",
   "execution_count": null,
   "metadata": {},
   "outputs": [],
   "source": []
  },
  {
   "cell_type": "code",
   "execution_count": null,
   "metadata": {},
   "outputs": [],
   "source": []
  }
 ],
 "metadata": {
  "kernelspec": {
   "display_name": "Python 3",
   "language": "python",
   "name": "python3"
  },
  "language_info": {
   "codemirror_mode": {
    "name": "ipython",
    "version": 3
   },
   "file_extension": ".py",
   "mimetype": "text/x-python",
   "name": "python",
   "nbconvert_exporter": "python",
   "pygments_lexer": "ipython3",
   "version": "3.7.3"
  }
 },
 "nbformat": 4,
 "nbformat_minor": 2
}
